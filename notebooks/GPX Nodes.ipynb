{
 "cells": [
  {
   "cell_type": "code",
   "execution_count": 3,
   "id": "2fd3b738",
   "metadata": {},
   "outputs": [],
   "source": [
    "import os\n",
    "import glob\n",
    "import gpxpy\n",
    "\n",
    "import pandas as pd"
   ]
  },
  {
   "cell_type": "code",
   "execution_count": 19,
   "id": "3a5c7167",
   "metadata": {},
   "outputs": [],
   "source": [
    "def get_name(filename):\n",
    "    return os.path.splitext(os.path.basename(filename))[0]\n",
    "\n",
    "def parse_gpx(filepath):\n",
    "    filename = get_name(filepath)\n",
    "    \n",
    "    gpx_file = open(filepath, 'r')\n",
    "    gpx = gpxpy.parse(gpx_file)\n",
    "\n",
    "    data = []\n",
    "    for track in gpx.tracks:\n",
    "        for segment in track.segments:\n",
    "            for point in segment.points:\n",
    "                lat, lng = point.latitude, point.longitude,\n",
    "                data.append({\n",
    "                    'lat': lat, \n",
    "                    'lon': lng,\n",
    "                    'filename': filename,\n",
    "                })\n",
    "\n",
    "    return pd.DataFrame(data)"
   ]
  },
  {
   "cell_type": "code",
   "execution_count": 20,
   "id": "47700f98",
   "metadata": {},
   "outputs": [],
   "source": [
    "output_dir = '../nodes'\n",
    "\n",
    "dfs = []\n",
    "\n",
    "gpx_files = glob.glob(\n",
    "  os.path.join('../gpx/', '*.gpx')\n",
    ")\n",
    "for gpx_file in gpx_files:\n",
    "    df = parse_gpx(gpx_file)\n",
    "    dfs.append(df)\n",
    "\n",
    "all_gpx = pd.concat(dfs)\n",
    "all_gpx.reset_index(drop=True, inplace=True)\n",
    "\n",
    "if not os.path.exists(output_dir):\n",
    "    os.makedirs(output_dir)\n",
    "\n",
    "all_gpx.to_csv(\n",
    "    output_dir + '/gpx-nodes.csv',\n",
    "    index_label = 'node_id',\n",
    ")"
   ]
  }
 ],
 "metadata": {
  "kernelspec": {
   "display_name": "Python 3 (ipykernel)",
   "language": "python",
   "name": "python3"
  },
  "language_info": {
   "codemirror_mode": {
    "name": "ipython",
    "version": 3
   },
   "file_extension": ".py",
   "mimetype": "text/x-python",
   "name": "python",
   "nbconvert_exporter": "python",
   "pygments_lexer": "ipython3",
   "version": "3.11.9"
  }
 },
 "nbformat": 4,
 "nbformat_minor": 5
}
