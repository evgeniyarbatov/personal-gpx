{
 "cells": [
  {
   "cell_type": "code",
   "execution_count": 4,
   "id": "eec364c3",
   "metadata": {},
   "outputs": [],
   "source": [
    "import requests\n",
    "\n",
    "import pandas as pd"
   ]
  },
  {
   "cell_type": "code",
   "execution_count": 16,
   "id": "901b7e15",
   "metadata": {},
   "outputs": [],
   "source": [
    "def get_nearest(coords, node_id, filename):\n",
    "    lat, lon = coords\n",
    "    response = requests.get(f\"http://127.0.0.1:6000/nearest/v1/foot/{lon},{lat}\")\n",
    "    response.raise_for_status()\n",
    "\n",
    "    columns = [\n",
    "        'osm_node_id',\n",
    "        'osm_node_lat',\n",
    "        'osm_node_lon',\n",
    "        'node_id',\n",
    "        'filename',\n",
    "    ]\n",
    "    df = pd.DataFrame(columns=columns)\n",
    "\n",
    "    data = response.json()\n",
    "    if 'waypoints' in data:\n",
    "        for waypoint in data['waypoints']:\n",
    "            lon, lat = waypoint['location']\n",
    "            for osm_node_id in waypoint['nodes']:\n",
    "                df = pd.concat([\n",
    "                    df, \n",
    "                    pd.DataFrame.from_records([{\n",
    "                        'node_id': node_id,\n",
    "                        'osm_node_id': osm_node_id,\n",
    "                        'osm_node_lat': lat,\n",
    "                        'osm_node_lon': lon,\n",
    "                        'filename': filename\n",
    "                    }])\n",
    "                ], ignore_index=True)\n",
    "\n",
    "    return df\n",
    "\n",
    "def query_osrm(df):\n",
    "    results = []\n",
    "\n",
    "    for _, row in df.iterrows():\n",
    "        nearest_df = get_nearest(\n",
    "            (row['lat'], row['lon']), \n",
    "            int(row['node_id']), \n",
    "            row['filename'],\n",
    "        )\n",
    "        results.append(nearest_df)\n",
    "\n",
    "    return pd.concat(results).reset_index(drop=True)   "
   ]
  },
  {
   "cell_type": "code",
   "execution_count": 17,
   "id": "f1c1eae6",
   "metadata": {},
   "outputs": [],
   "source": [
    "df = pd.read_csv('../nodes/gpx-nodes.csv')\n",
    "\n",
    "osrm_df = query_osrm(df)\n",
    "\n",
    "osrm_df.to_csv(\n",
    "    '../nodes/osm-nodes.csv',\n",
    "    index=False,\n",
    ")"
   ]
  }
 ],
 "metadata": {
  "kernelspec": {
   "display_name": "Python 3 (ipykernel)",
   "language": "python",
   "name": "python3"
  },
  "language_info": {
   "codemirror_mode": {
    "name": "ipython",
    "version": 3
   },
   "file_extension": ".py",
   "mimetype": "text/x-python",
   "name": "python",
   "nbconvert_exporter": "python",
   "pygments_lexer": "ipython3",
   "version": "3.11.9"
  }
 },
 "nbformat": 4,
 "nbformat_minor": 5
}
