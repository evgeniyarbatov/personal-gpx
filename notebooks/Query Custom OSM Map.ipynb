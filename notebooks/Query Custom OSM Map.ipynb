{
 "cells": [
  {
   "cell_type": "code",
   "execution_count": 5,
   "id": "a2583af7",
   "metadata": {},
   "outputs": [
    {
     "ename": "ModuleNotFoundError",
     "evalue": "No module named 'contextily'",
     "output_type": "error",
     "traceback": [
      "\u001b[0;31m---------------------------------------------------------------------------\u001b[0m",
      "\u001b[0;31mModuleNotFoundError\u001b[0m                       Traceback (most recent call last)",
      "Cell \u001b[0;32mIn[5], line 5\u001b[0m\n\u001b[1;32m      2\u001b[0m \u001b[38;5;28;01mimport\u001b[39;00m \u001b[38;5;21;01mpolyline\u001b[39;00m\n\u001b[1;32m      4\u001b[0m \u001b[38;5;28;01mimport\u001b[39;00m \u001b[38;5;21;01mmatplotlib\u001b[39;00m\u001b[38;5;21;01m.\u001b[39;00m\u001b[38;5;21;01mpyplot\u001b[39;00m \u001b[38;5;28;01mas\u001b[39;00m \u001b[38;5;21;01mplt\u001b[39;00m\n\u001b[0;32m----> 5\u001b[0m \u001b[38;5;28;01mimport\u001b[39;00m \u001b[38;5;21;01mcontextily\u001b[39;00m \u001b[38;5;28;01mas\u001b[39;00m \u001b[38;5;21;01mctx\u001b[39;00m\n\u001b[1;32m      7\u001b[0m \u001b[38;5;28;01mimport\u001b[39;00m \u001b[38;5;21;01mitertools\u001b[39;00m\n\u001b[1;32m      9\u001b[0m \u001b[38;5;28;01mimport\u001b[39;00m \u001b[38;5;21;01mxml\u001b[39;00m\u001b[38;5;21;01m.\u001b[39;00m\u001b[38;5;21;01mdom\u001b[39;00m\u001b[38;5;21;01m.\u001b[39;00m\u001b[38;5;21;01mminidom\u001b[39;00m\n",
      "\u001b[0;31mModuleNotFoundError\u001b[0m: No module named 'contextily'"
     ]
    }
   ],
   "source": [
    "import requests\n",
    "import polyline\n",
    "\n",
    "import matplotlib.pyplot as plt\n",
    "import contextily as ctx\n",
    "\n",
    "import itertools\n",
    "\n",
    "import xml.dom.minidom\n",
    "from xml.etree.ElementTree import Element, SubElement, tostring"
   ]
  },
  {
   "cell_type": "code",
   "execution_count": 6,
   "id": "33ece470-9e46-46eb-9d60-e13aadb7537e",
   "metadata": {},
   "outputs": [
    {
     "name": "stdout",
     "output_type": "stream",
     "text": [
      "Defaulting to user installation because normal site-packages is not writeable\n",
      "Collecting contextily\n",
      "  Using cached contextily-1.6.0-py3-none-any.whl.metadata (2.9 kB)\n",
      "Requirement already satisfied: geopy in /Users/lethuhang/Library/Python/3.9/lib/python/site-packages (from contextily) (2.4.1)\n",
      "Requirement already satisfied: matplotlib in /Users/lethuhang/Library/Python/3.9/lib/python/site-packages (from contextily) (3.9.0)\n",
      "Collecting mercantile (from contextily)\n",
      "  Using cached mercantile-1.2.1-py3-none-any.whl.metadata (4.8 kB)\n",
      "Requirement already satisfied: pillow in /Users/lethuhang/Library/Python/3.9/lib/python/site-packages (from contextily) (10.3.0)\n",
      "Collecting rasterio (from contextily)\n",
      "  Using cached rasterio-1.3.10-cp39-cp39-macosx_10_15_x86_64.whl.metadata (14 kB)\n",
      "Requirement already satisfied: requests in /Users/lethuhang/Library/Python/3.9/lib/python/site-packages (from contextily) (2.31.0)\n",
      "Requirement already satisfied: joblib in /Users/lethuhang/Library/Python/3.9/lib/python/site-packages (from contextily) (1.4.2)\n",
      "Collecting xyzservices (from contextily)\n",
      "  Using cached xyzservices-2024.6.0-py3-none-any.whl.metadata (4.0 kB)\n",
      "Requirement already satisfied: geographiclib<3,>=1.52 in /Users/lethuhang/Library/Python/3.9/lib/python/site-packages (from geopy->contextily) (2.0)\n",
      "Requirement already satisfied: contourpy>=1.0.1 in /Users/lethuhang/Library/Python/3.9/lib/python/site-packages (from matplotlib->contextily) (1.2.1)\n",
      "Requirement already satisfied: cycler>=0.10 in /Users/lethuhang/Library/Python/3.9/lib/python/site-packages (from matplotlib->contextily) (0.12.1)\n",
      "Requirement already satisfied: fonttools>=4.22.0 in /Users/lethuhang/Library/Python/3.9/lib/python/site-packages (from matplotlib->contextily) (4.52.1)\n",
      "Requirement already satisfied: kiwisolver>=1.3.1 in /Users/lethuhang/Library/Python/3.9/lib/python/site-packages (from matplotlib->contextily) (1.4.5)\n",
      "Requirement already satisfied: numpy>=1.23 in /Users/lethuhang/Library/Python/3.9/lib/python/site-packages (from matplotlib->contextily) (1.26.4)\n",
      "Requirement already satisfied: packaging>=20.0 in /Users/lethuhang/Library/Python/3.9/lib/python/site-packages (from matplotlib->contextily) (21.3)\n",
      "Requirement already satisfied: pyparsing>=2.3.1 in /Users/lethuhang/Library/Python/3.9/lib/python/site-packages (from matplotlib->contextily) (3.1.2)\n",
      "Requirement already satisfied: python-dateutil>=2.7 in /Users/lethuhang/Library/Python/3.9/lib/python/site-packages (from matplotlib->contextily) (2.9.0.post0)\n",
      "Requirement already satisfied: importlib-resources>=3.2.0 in /Users/lethuhang/Library/Python/3.9/lib/python/site-packages (from matplotlib->contextily) (6.4.0)\n",
      "Requirement already satisfied: click>=3.0 in /Users/lethuhang/Library/Python/3.9/lib/python/site-packages (from mercantile->contextily) (8.1.7)\n",
      "Collecting affine (from rasterio->contextily)\n",
      "  Using cached affine-2.4.0-py3-none-any.whl.metadata (4.0 kB)\n",
      "Requirement already satisfied: attrs in /Users/lethuhang/Library/Python/3.9/lib/python/site-packages (from rasterio->contextily) (23.2.0)\n",
      "Requirement already satisfied: certifi in /Users/lethuhang/Library/Python/3.9/lib/python/site-packages (from rasterio->contextily) (2024.2.2)\n",
      "Collecting cligj>=0.5 (from rasterio->contextily)\n",
      "  Using cached cligj-0.7.2-py3-none-any.whl.metadata (5.0 kB)\n",
      "Collecting snuggs>=1.4.1 (from rasterio->contextily)\n",
      "  Using cached snuggs-1.4.7-py3-none-any.whl.metadata (3.4 kB)\n",
      "Collecting click-plugins (from rasterio->contextily)\n",
      "  Using cached click_plugins-1.1.1-py2.py3-none-any.whl.metadata (6.4 kB)\n",
      "Requirement already satisfied: setuptools in /Library/Developer/CommandLineTools/Library/Frameworks/Python3.framework/Versions/3.9/lib/python3.9/site-packages (from rasterio->contextily) (58.0.4)\n",
      "Requirement already satisfied: importlib-metadata in /Users/lethuhang/Library/Python/3.9/lib/python/site-packages (from rasterio->contextily) (7.0.2)\n",
      "Requirement already satisfied: charset-normalizer<4,>=2 in /Users/lethuhang/Library/Python/3.9/lib/python/site-packages (from requests->contextily) (3.3.2)\n",
      "Requirement already satisfied: idna<4,>=2.5 in /Users/lethuhang/Library/Python/3.9/lib/python/site-packages (from requests->contextily) (3.6)\n",
      "Requirement already satisfied: urllib3<3,>=1.21.1 in /Users/lethuhang/Library/Python/3.9/lib/python/site-packages (from requests->contextily) (2.2.1)\n",
      "Requirement already satisfied: zipp>=3.1.0 in /Users/lethuhang/Library/Python/3.9/lib/python/site-packages (from importlib-resources>=3.2.0->matplotlib->contextily) (3.18.1)\n",
      "Requirement already satisfied: six>=1.5 in /Library/Developer/CommandLineTools/Library/Frameworks/Python3.framework/Versions/3.9/lib/python3.9/site-packages (from python-dateutil>=2.7->matplotlib->contextily) (1.15.0)\n",
      "Using cached contextily-1.6.0-py3-none-any.whl (17 kB)\n",
      "Using cached mercantile-1.2.1-py3-none-any.whl (14 kB)\n",
      "Downloading rasterio-1.3.10-cp39-cp39-macosx_10_15_x86_64.whl (20.6 MB)\n",
      "\u001b[2K   \u001b[90m━━━━━━━━━━━━━━━━━━━━━━━━━━━━━━━━━━━━━━━━\u001b[0m \u001b[32m20.6/20.6 MB\u001b[0m \u001b[31m25.1 MB/s\u001b[0m eta \u001b[36m0:00:00\u001b[0m00:01\u001b[0m00:01\u001b[0m\n",
      "\u001b[?25hDownloading xyzservices-2024.6.0-py3-none-any.whl (83 kB)\n",
      "\u001b[2K   \u001b[90m━━━━━━━━━━━━━━━━━━━━━━━━━━━━━━━━━━━━━━━━\u001b[0m \u001b[32m83.9/83.9 kB\u001b[0m \u001b[31m3.3 MB/s\u001b[0m eta \u001b[36m0:00:00\u001b[0m\n",
      "\u001b[?25hDownloading cligj-0.7.2-py3-none-any.whl (7.1 kB)\n",
      "Downloading snuggs-1.4.7-py3-none-any.whl (5.4 kB)\n",
      "Downloading affine-2.4.0-py3-none-any.whl (15 kB)\n",
      "Downloading click_plugins-1.1.1-py2.py3-none-any.whl (7.5 kB)\n",
      "Installing collected packages: xyzservices, snuggs, mercantile, cligj, click-plugins, affine, rasterio, contextily\n",
      "Successfully installed affine-2.4.0 click-plugins-1.1.1 cligj-0.7.2 contextily-1.6.0 mercantile-1.2.1 rasterio-1.3.10 snuggs-1.4.7 xyzservices-2024.6.0\n",
      "\n",
      "\u001b[1m[\u001b[0m\u001b[34;49mnotice\u001b[0m\u001b[1;39;49m]\u001b[0m\u001b[39;49m A new release of pip is available: \u001b[0m\u001b[31;49m24.0\u001b[0m\u001b[39;49m -> \u001b[0m\u001b[32;49m24.1.1\u001b[0m\n",
      "\u001b[1m[\u001b[0m\u001b[34;49mnotice\u001b[0m\u001b[1;39;49m]\u001b[0m\u001b[39;49m To update, run: \u001b[0m\u001b[32;49m/Library/Developer/CommandLineTools/usr/bin/python3 -m pip install --upgrade pip\u001b[0m\n"
     ]
    }
   ],
   "source": [
    "!pip3.9 install contextily"
   ]
  },
  {
   "cell_type": "code",
   "execution_count": null,
   "id": "51f7d85f",
   "metadata": {},
   "outputs": [],
   "source": [
    "DEFAULT_RADIUS_IN_METERS = 5"
   ]
  },
  {
   "cell_type": "code",
   "execution_count": null,
   "id": "9eb677c0",
   "metadata": {},
   "outputs": [],
   "source": [
    "def osrm_format(coords):\n",
    "    lat, lon = coords\n",
    "    return f\"{lon},{lat}\"\n",
    "\n",
    "def get_route(points):\n",
    "    points = ';'.join(map(osrm_format, points))\n",
    "    params = {\n",
    "        'geometries': 'polyline6',\n",
    "    }\n",
    "    \n",
    "    response = requests.get(f\"http://127.0.0.1:9000/route/v1/foot/{points}\", params=params)\n",
    "    routes = response.json()\n",
    "    \n",
    "    if routes['code'] != 'Ok':\n",
    "        print(routes)\n",
    "        return None\n",
    "    \n",
    "    geometry = routes['routes'][0]['geometry']\n",
    "    return polyline.decode(geometry, 6)\n",
    "\n",
    "def get_match(points):\n",
    "    radiuses = ';'.join([str(DEFAULT_RADIUS_IN_METERS)] * len(points))\n",
    "    points = ';'.join(map(osrm_format, points))\n",
    "    \n",
    "    params = {\n",
    "        'geometries': 'polyline6',\n",
    "        'radiuses': radiuses,\n",
    "    } \n",
    "    response = requests.get(f\"http://127.0.0.1:6000/match/v1/foot/{points}\", params=params)\n",
    "    routes = response.json()\n",
    "    \n",
    "    if routes['code'] != 'Ok':\n",
    "        print(routes)\n",
    "        return None\n",
    "    \n",
    "    route = [\n",
    "        polyline.decode(matching['geometry'], 6) \n",
    "        if matching['confidence'] > 0.90\n",
    "        else []\n",
    "        for matching in routes['matchings']\n",
    "    ]\n",
    "\n",
    "    return list(itertools.chain.from_iterable(route))\n",
    "\n",
    "def plot_gpx(route, ax):\n",
    "    latitudes = [point[0] for point in route]\n",
    "    longitudes = [point[1] for point in route]\n",
    "    ax.plot(longitudes, latitudes, color='red', label='Route')\n",
    "    ctx.add_basemap(ax, crs='EPSG:4326', source=ctx.providers.OpenStreetMap.Mapnik)\n",
    "    ax.legend()\n",
    "    ax.set_yticks([])\n",
    "    ax.set_xticks([])\n",
    "    ax.tick_params(axis='both', which='both', bottom=False, top=False, left=False, right=False)"
   ]
  },
  {
   "cell_type": "code",
   "execution_count": null,
   "id": "3fb997f6",
   "metadata": {},
   "outputs": [],
   "source": [
    "start = (1.3094259512853295, 103.8945520144324)\n",
    "stop = (1.3551814463295238, 103.77589648110123)\n",
    "\n",
    "points = [start] + [stop]\n",
    "\n",
    "osrm_route = get_route(points) \n",
    "matched_route = get_route(osrm_route) \n",
    "\n",
    "fig, ax = plt.subplots(1, 1, figsize=(12, 30))\n",
    "plot_gpx(osrm_route, ax)\n",
    "plt.show()"
   ]
  },
  {
   "cell_type": "code",
   "execution_count": null,
   "id": "aec294e3",
   "metadata": {},
   "outputs": [],
   "source": []
  }
 ],
 "metadata": {
  "kernelspec": {
   "display_name": "Python 3 (ipykernel)",
   "language": "python",
   "name": "python3"
  },
  "language_info": {
   "codemirror_mode": {
    "name": "ipython",
    "version": 3
   },
   "file_extension": ".py",
   "mimetype": "text/x-python",
   "name": "python",
   "nbconvert_exporter": "python",
   "pygments_lexer": "ipython3",
   "version": "3.9.6"
  }
 },
 "nbformat": 4,
 "nbformat_minor": 5
}
