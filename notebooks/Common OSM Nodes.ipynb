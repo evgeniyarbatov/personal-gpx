{
 "cells": [
  {
   "cell_type": "code",
   "execution_count": 1,
   "id": "dc1e88e7",
   "metadata": {},
   "outputs": [],
   "source": [
    "import pandas as pd"
   ]
  },
  {
   "cell_type": "code",
   "execution_count": 6,
   "id": "56127dc0",
   "metadata": {},
   "outputs": [],
   "source": [
    "df = pd.read_csv('../nodes/osm-nodes.csv')\n",
    "\n",
    "common_nodes_df = df.groupby('osm_node_id').filter(lambda x: len(x['filename'].unique()) > 1)\n",
    "\n",
    "common_nodes_df = common_nodes_df[['osm_node_id', 'osm_node_lat', 'osm_node_lon', 'filename']]\n",
    "\n",
    "common_nodes_df = common_nodes_df.rename(columns={\n",
    "    'osm_node_id': 'node_id',\n",
    "    'osm_node_lat': 'lat',\n",
    "    'osm_node_lon': 'lon',\n",
    "    'filename': 'filename'\n",
    "})\n",
    "\n",
    "common_nodes_df.to_csv(\n",
    "    '../nodes/common-osm-nodes.csv',\n",
    "    index=False,\n",
    ")"
   ]
  },
  {
   "cell_type": "code",
   "execution_count": null,
   "id": "1c6e76d5",
   "metadata": {},
   "outputs": [],
   "source": []
  }
 ],
 "metadata": {
  "kernelspec": {
   "display_name": "Python 3 (ipykernel)",
   "language": "python",
   "name": "python3"
  },
  "language_info": {
   "codemirror_mode": {
    "name": "ipython",
    "version": 3
   },
   "file_extension": ".py",
   "mimetype": "text/x-python",
   "name": "python",
   "nbconvert_exporter": "python",
   "pygments_lexer": "ipython3",
   "version": "3.11.9"
  }
 },
 "nbformat": 4,
 "nbformat_minor": 5
}
